{
 "cells": [
  {
   "cell_type": "markdown",
   "metadata": {},
   "source": [
    "# Cifar10 Practice"
   ]
  },
  {
   "cell_type": "markdown",
   "metadata": {},
   "source": [
    "## Set up the dataset"
   ]
  },
  {
   "cell_type": "markdown",
   "metadata": {},
   "source": [
    "First download the dataset from https://www.cs.toronto.edu/~kriz/cifar.html and extact it."
   ]
  },
  {
   "cell_type": "code",
   "execution_count": 6,
   "metadata": {
    "collapsed": true
   },
   "outputs": [],
   "source": [
    "dataset_dir = './'\n",
    "batch_size = 50"
   ]
  },
  {
   "cell_type": "code",
   "execution_count": 7,
   "metadata": {
    "collapsed": true
   },
   "outputs": [],
   "source": [
    "from torch.utils.data import Dataset, DataLoader\n",
    "from PIL import Image\n",
    "import numpy as np\n",
    "import pickle\n",
    "import os\n",
    "\n",
    "def unpickle(file):\n",
    "    with open(file, 'rb') as fo:\n",
    "        dict = pickle.load(fo, encoding='bytes')\n",
    "    return dict\n",
    "\n",
    "class cifar10Dataset(Dataset):\n",
    "    '''\n",
    "    The Cifar 10 dataset\n",
    "    \n",
    "    Args:\n",
    "        root_dir:the root directory of the dataset\n",
    "        type:'train' or 'test'\n",
    "        transform\n",
    "    '''\n",
    "    def __init__(self, root_dir, type, transform = None):\n",
    "        self.root_dir = root_dir\n",
    "        self.transform = transform\n",
    "        self.labels = []\n",
    "        self.images = []\n",
    "\n",
    "        self.loadData(type)\n",
    "\n",
    "    def __len__(self):\n",
    "        return len(self.images)\n",
    "\n",
    "    def __getitem__(self, idx):\n",
    "        label = self.labels[idx]\n",
    "        image = Image.fromarray(self.images[idx])\n",
    "        if self.transform:\n",
    "            image = self.transform(image)\n",
    "\n",
    "        return (image, label)\n",
    "\n",
    "\n",
    "\n",
    "    def loadData(self, type):\n",
    "        self.labels = []\n",
    "        self.images = []\n",
    "        if type == 'train':\n",
    "            for i in range(1, 6):\n",
    "                entry = unpickle(os.path.join(self.root_dir, 'cifar-10-batches-py', 'data_batch_'+str(i)))\n",
    "                self.images.append(entry[b'data'])\n",
    "                self.labels.append(entry[b'labels'])\n",
    "            self.images = np.concatenate(self.images)\n",
    "            self.labels = np.concatenate(self.labels)\n",
    "            self.images = self.images.reshape(50000, 3, 32, 32)\n",
    "            self.images = self.images.transpose((0, 2, 3, 1))\n",
    "        elif type == 'test':\n",
    "            entry = unpickle(os.path.join(self.root_dir, 'cifar-10-batches-py', 'test_batch'))\n",
    "            self.images = (entry[b'data'])\n",
    "            self.labels = (entry[b'labels'])\n",
    "            self.images = self.images.reshape(10000, 3, 32, 32)\n",
    "            self.images = self.images.transpose((0, 2, 3, 1))\n",
    "        else: raise ValueError(\"no such type, must be 'train' or 'test'\")\n",
    "\n",
    "        return"
   ]
  },
  {
   "cell_type": "markdown",
   "metadata": {},
   "source": [
    "We can get some information about the dataset."
   ]
  },
  {
   "cell_type": "code",
   "execution_count": 8,
   "metadata": {},
   "outputs": [
    {
     "name": "stdout",
     "output_type": "stream",
     "text": [
      "Dataset sample\n"
     ]
    },
    {
     "data": {
      "image/png": "[encoded data removed]",
      "text/plain": [
       "<matplotlib.figure.Figure at 0x7f86fc253e80>"
      ]
     },
     "metadata": {},
     "output_type": "display_data"
    }
   ],
   "source": [
    "from torchvision import transforms\n",
    "import matplotlib.pyplot as plt\n",
    "\n",
    "label_names = ['airplane', 'automobile', 'bird', 'cat', 'deer', 'dog', 'frog', 'horse', 'ship', 'truck']\n",
    "\n",
    "trans = transforms.Compose([\n",
    "    transforms.RandomHorizontalFlip(),\n",
    "    transforms.RandomRotation(15),\n",
    "    transforms.RandomResizedCrop(32, scale=(0.7, 1.0))\n",
    "])\n",
    "dataset = cifar10Dataset(dataset_dir, 'train', trans)\n",
    "image, label = dataset[1]\n",
    "print('Dataset sample')\n",
    "plt.figure()\n",
    "plt.title(label_names[label])\n",
    "plt.imshow(image)\n",
    "plt.show()"
   ]
  },
  {
   "cell_type": "markdown",
   "metadata": {},
   "source": [
    "Calculate the mean of the dataset to zero center the input data."
   ]
  },
  {
   "cell_type": "code",
   "execution_count": 9,
   "metadata": {},
   "outputs": [
    {
     "name": "stdout",
     "output_type": "stream",
     "text": [
      "[0.4790731927083333, 0.46672274019607846, 0.43158152619485296]\n"
     ]
    }
   ],
   "source": [
    "from PIL import ImageStat\n",
    "\n",
    "mean = [0., 0., 0.]\n",
    "for data in dataset:\n",
    "    image = data[0]\n",
    "    stat = ImageStat.Stat(image)\n",
    "    for i in range(len(mean)):\n",
    "        mean[i] += stat.mean[i]\n",
    "for i in range(len(mean)):\n",
    "    mean[i] /= len(dataset)*255\n",
    "\n",
    "print(mean)"
   ]
  },
  {
   "cell_type": "markdown",
   "metadata": {},
   "source": [
    "Create the dataloaders for training"
   ]
  },
  {
   "cell_type": "code",
   "execution_count": 10,
   "metadata": {
    "collapsed": true
   },
   "outputs": [],
   "source": [
    "trans = {}\n",
    "trans['train'] = transforms.Compose([\n",
    "    transforms.RandomHorizontalFlip(),\n",
    "    transforms.RandomRotation(15),\n",
    "    transforms.RandomResizedCrop(32, scale=(0.7, 1.0)),\n",
    "    transforms.ToTensor(),\n",
    "    transforms.Normalize(mean, [1., 1., 1.])\n",
    "])\n",
    "trans['test'] = transforms.Compose([\n",
    "    transforms.ToTensor(),\n",
    "    transforms.Normalize(mean, [1., 1., 1.])\n",
    "])\n",
    "datasets = {x: cifar10Dataset(dataset_dir, x, trans[x])for x in ['train', 'test']}\n",
    "dataloaders = {x: DataLoader(datasets[x], batch_size=batch_size, shuffle=True, num_workers=4)\n",
    "                for x in ['train', 'test']}\n",
    "dataset_sizes = {x: len(datasets[x]) for x in ['train', 'test']}"
   ]
  },
  {
   "cell_type": "code",
   "execution_count": 11,
   "metadata": {},
   "outputs": [
    {
     "data": {
      "text/plain": [
       "{'test': 10000, 'train': 50000}"
      ]
     },
     "execution_count": 11,
     "metadata": {},
     "output_type": "execute_result"
    }
   ],
   "source": [
    "dataset_sizes"
   ]
  },
  {
   "cell_type": "code",
   "execution_count": 12,
   "metadata": {},
   "outputs": [
    {
     "data": {
      "text/plain": [
       "(tensor([[[-0.4791, -0.4791, -0.4791,  ..., -0.1810, -0.3340, -0.3497],\n",
       "          [-0.4791, -0.4791, -0.4791,  ..., -0.1222, -0.2555, -0.2869],\n",
       "          [-0.4791, -0.4791, -0.4791,  ..., -0.0752, -0.1653, -0.2085],\n",
       "          ...,\n",
       "          [-0.4791, -0.4791, -0.4791,  ...,  0.1523,  0.2190,  0.3092],\n",
       "          [-0.4791, -0.4791, -0.4791,  ...,  0.1915,  0.1327, -0.4791],\n",
       "          [-0.4791, -0.4791, -0.4791,  ..., -0.4791, -0.4791, -0.4791]],\n",
       " \n",
       "         [[-0.4667, -0.4667, -0.4667,  ..., -0.2863, -0.3844, -0.3687],\n",
       "          [-0.4667, -0.4667, -0.4667,  ..., -0.2471, -0.3452, -0.3412],\n",
       "          [-0.4667, -0.4667, -0.4667,  ..., -0.2040, -0.2706, -0.2824],\n",
       "          ...,\n",
       "          [-0.4667, -0.4667, -0.4667,  ...,  0.0196,  0.1019,  0.2235],\n",
       "          [-0.4667, -0.4667, -0.4667,  ...,  0.0862,  0.0548, -0.4667],\n",
       "          [-0.4667, -0.4667, -0.4667,  ..., -0.4667, -0.4667, -0.4667]],\n",
       " \n",
       "         [[-0.4316, -0.4316, -0.4316,  ..., -0.3532, -0.4081, -0.3649],\n",
       "          [-0.4316, -0.4316, -0.4316,  ..., -0.3179, -0.3845, -0.3492],\n",
       "          [-0.4316, -0.4316, -0.4316,  ..., -0.2982, -0.3375, -0.3218],\n",
       "          ...,\n",
       "          [-0.4316, -0.4316, -0.4316,  ..., -0.2747, -0.2747, -0.1728],\n",
       "          [-0.4316, -0.4316, -0.4316,  ..., -0.1296, -0.1767, -0.4316],\n",
       "          [-0.4316, -0.4316, -0.4316,  ..., -0.4316, -0.4316, -0.4316]]]), 6)"
      ]
     },
     "execution_count": 12,
     "metadata": {},
     "output_type": "execute_result"
    }
   ],
   "source": [
    "datasets['train'][0]"
   ]
  },
  {
   "cell_type": "markdown",
   "metadata": {},
   "source": [
    "## Model"
   ]
  },
  {
   "cell_type": "code",
   "execution_count": 13,
   "metadata": {
    "collapsed": true
   },
   "outputs": [],
   "source": [
    "import torch.nn as nn\n",
    "import math\n",
    "\n",
    "class Model(nn.Module):\n",
    "    def __init__(self):\n",
    "        super(Model, self).__init__()\n",
    "        self.features = nn.Sequential(\n",
    "            #32x32\n",
    "            nn.Conv2d(3, 32, 3, stride=1, padding=1),\n",
    "            nn.BatchNorm2d(32),\n",
    "            nn.ReLU(inplace=True),\n",
    "            nn.Conv2d(32, 64, 3, stride=1, padding=1),\n",
    "            nn.BatchNorm2d(64),\n",
    "            nn.ReLU(inplace=True),\n",
    "            nn.MaxPool2d(2),\n",
    "            #16x16\n",
    "            nn.Conv2d(64, 128, 3, stride=1, padding=1),\n",
    "            nn.BatchNorm2d(128),\n",
    "            nn.ReLU(inplace=True),\n",
    "            nn.Conv2d(128, 256, 3, stride=1, padding=1),\n",
    "            nn.BatchNorm2d(256),\n",
    "            nn.ReLU(inplace=True),\n",
    "            nn.MaxPool2d(2),\n",
    "            #8x8\n",
    "            nn.Conv2d(256, 512, 3, stride=1, padding=1),\n",
    "            nn.BatchNorm2d(512),\n",
    "            nn.ReLU(inplace=True),\n",
    "            nn.Conv2d(512, 512, 3, stride=1, padding=1),\n",
    "            nn.BatchNorm2d(512),\n",
    "            nn.ReLU(inplace=True),\n",
    "            nn.MaxPool2d(2)\n",
    "            #4x4\n",
    "        )\n",
    "\n",
    "        self.classifier = nn.Sequential(\n",
    "            nn.Linear(512 * 4 * 4, 2048),\n",
    "            nn.ReLU(inplace=True),\n",
    "            nn.Dropout(),\n",
    "            nn.Linear(2048, 2048),\n",
    "            nn.ReLU(inplace=True),\n",
    "            nn.Dropout(),\n",
    "            nn.Linear(2048, 10)\n",
    "        )\n",
    "        \n",
    "        self._initialize_weights()\n",
    "        \n",
    "\n",
    "    def forward(self, x):\n",
    "        x = self.features(x)\n",
    "        x = x.view(x.size(0), -1)\n",
    "        x = self.classifier(x)\n",
    "        return x\n",
    "\n",
    "    def _initialize_weights(self):\n",
    "        for m in self.modules():\n",
    "            if isinstance(m, nn.Conv2d):\n",
    "                n = m.kernel_size[0] * m.kernel_size[1] * m.out_channels\n",
    "                m.weight.data.normal_(0, math.sqrt(2. / n))\n",
    "                if m.bias is not None:\n",
    "                    m.bias.data.zero_()\n",
    "            elif isinstance(m, nn.BatchNorm2d):\n",
    "                m.weight.data.fill_(1)\n",
    "                m.bias.data.zero_()\n",
    "            elif isinstance(m, nn.Linear):\n",
    "                m.weight.data.normal_(0, 0.01)\n",
    "                m.bias.data.zero_()"
   ]
  },
  {
   "cell_type": "markdown",
   "metadata": {},
   "source": [
    "## Training"
   ]
  },
  {
   "cell_type": "markdown",
   "metadata": {},
   "source": [
    "Define the training parameters."
   ]
  },
  {
   "cell_type": "code",
   "execution_count": 14,
   "metadata": {
    "collapsed": true
   },
   "outputs": [],
   "source": [
    "num_epochs = 40\n",
    "learning_rate = 1e-4\n",
    "regulization = 0\n",
    "model_save_dir = './models'\n",
    "model_name = 'net_v1_lr_1e-4_sgd_lr_sche_v2'\n",
    "log_dir = './runs'"
   ]
  },
  {
   "cell_type": "markdown",
   "metadata": {},
   "source": [
    "Initialization"
   ]
  },
  {
   "cell_type": "code",
   "execution_count": 15,
   "metadata": {
    "collapsed": true
   },
   "outputs": [],
   "source": [
    "import torch\n",
    "import torch.optim as optim\n",
    "from torch.autograd import Variable\n",
    "from tensorboardX import SummaryWriter\n",
    "from sklearn.metrics import accuracy_score\n",
    "\n",
    "device = torch.device(\"cuda\" if torch.cuda.is_available() else \"cpu\")\n",
    "writer = {x: SummaryWriter(log_dir=os.path.join(log_dir, model_name, x),\n",
    "                comment=model_name)\n",
    "          for x in ['train', 'test']}"
   ]
  },
  {
   "cell_type": "markdown",
   "metadata": {},
   "source": [
    "Define model, loss function, and optimizer"
   ]
  },
  {
   "cell_type": "code",
   "execution_count": 16,
   "metadata": {
    "collapsed": true
   },
   "outputs": [],
   "source": [
    "model = Model().to(device)\n",
    "criterion = nn.CrossEntropyLoss(size_average=False)\n",
    "optimizer = optim.SGD(model.parameters(), lr=learning_rate, momentum=0.9, weight_decay=regulization)\n",
    "scheduler = optim.lr_scheduler.MultiStepLR(optimizer, milestones=[20,30], gamma=0.1)"
   ]
  },
  {
   "cell_type": "markdown",
   "metadata": {},
   "source": [
    "Start training"
   ]
  },
  {
   "cell_type": "code",
   "execution_count": 17,
   "metadata": {
    "collapsed": true
   },
   "outputs": [],
   "source": [
    "import time\n",
    "\n",
    "def training():\n",
    "    since = time.time()\n",
    "    best_model_wts = model.state_dict()\n",
    "    best_accuracy = 0.0\n",
    "    iter_num = 0\n",
    "\n",
    "    for epoch in range(num_epochs):\n",
    "        print('Epoch {}/{}'.format(epoch, num_epochs - 1))\n",
    "        print('-' * 10)\n",
    "        scheduler.step()\n",
    "        # Each epoch has a training and validation phase\n",
    "        for phase in ['train', 'test']:\n",
    "            if phase == 'train':\n",
    "                model.train(True)  # Set model to training mode\n",
    "            else:\n",
    "                model.train(False)  # Set model to evaluate mode\n",
    "\n",
    "            running_loss = 0.0\n",
    "            running_corrects = 0\n",
    "            # Iterate over data.\n",
    "            for idx, data in enumerate(dataloaders[phase]):\n",
    "                # get the inputs\n",
    "                inputs, labels = data\n",
    "\n",
    "                inputs = inputs.to(device)\n",
    "                labels = labels.to(device)\n",
    "                \n",
    "                if phase == 'train':\n",
    "                    torch.set_grad_enabled(True)\n",
    "                else:\n",
    "                    torch.set_grad_enabled(False)\n",
    "\n",
    "                # zero the parameter gradients\n",
    "                optimizer.zero_grad()\n",
    "\n",
    "                # forward\n",
    "                outputs = model(inputs)\n",
    "                loss = criterion(outputs, labels)\n",
    "\n",
    "                # backward + optimize only if in training phase\n",
    "                if phase == 'train':\n",
    "                    loss.backward()\n",
    "                    optimizer.step()\n",
    "                    iter_num += 1\n",
    "\n",
    "                # statistics\n",
    "                running_loss += loss.item()\n",
    "                _, preds = torch.max(outputs.detach(), 1)\n",
    "                running_corrects += torch.sum(preds == labels.detach()).item()\n",
    "\n",
    "                if idx%10 == 0:\n",
    "                    if phase == 'train':\n",
    "                        preds = preds.to('cpu')\n",
    "                        labels = labels.detach().to('cpu')\n",
    "                        writer[phase].add_scalar('loss', loss.item()/len(preds), iter_num)\n",
    "                        writer[phase].add_scalar('accuracy', accuracy_score(preds.numpy(), labels.numpy()), iter_num)\n",
    "                    print('\\r{} {:.2f}%'.format(phase, 100*idx/len(dataloaders[phase])), end='\\r')\n",
    "                if idx%500 == 499:\n",
    "                    if phase == 'train':\n",
    "                        for name, param in model.named_parameters():\n",
    "                            writer[phase].add_histogram(name, param.detach().to('cpu').numpy(), iter_num)\n",
    "\n",
    "            epoch_loss = running_loss / dataset_sizes[phase]\n",
    "            epoch_accuracy = running_corrects / dataset_sizes[phase]\n",
    "\n",
    "            if phase == 'test':\n",
    "                writer[phase].add_scalar('loss', epoch_loss, iter_num)\n",
    "                writer[phase].add_scalar('accuracy', epoch_accuracy, iter_num)\n",
    "            print('{} Loss: {:.4f} Accuracy: {:.4f}'.format(\n",
    "                phase, epoch_loss, epoch_accuracy))\n",
    "\n",
    "            # save model\n",
    "            if phase == 'test' and epoch_accuracy > best_accuracy:\n",
    "                best_accuracy = epoch_accuracy\n",
    "                best_model_wts = model.state_dict()\n",
    "                model_dir = os.path.join(model_save_dir, model_name+'.pth')\n",
    "                if not os.path.exists(model_save_dir):\n",
    "                    os.makedirs(model_dir)\n",
    "                torch.save(model.state_dict(), model_dir)\n",
    "                print('Model saved to %s'%(model_dir))\n",
    "\n",
    "        print()\n",
    "\n",
    "    time_elapsed = time.time() - since\n",
    "    print('Training complete in {:.0f}m {:.0f}s'.format(\n",
    "        time_elapsed // 60, time_elapsed % 60))\n",
    "    print('Best Test Accuracy: {:4f}'.format(best_accuracy))\n",
    "\n",
    "    # load best model weights\n",
    "    model.load_state_dict(best_model_wts)\n"
   ]
  },
  {
   "cell_type": "code",
   "execution_count": 13,
   "metadata": {
    "scrolled": true
   },
   "outputs": [
    {
     "name": "stdout",
     "output_type": "stream",
     "text": [
      "Epoch 0/39\n",
      "----------\n",
      "train Loss: 1.5978 Accuracy: 0.4103\n",
      "test Loss: 1.3694 Accuracy: 0.5167\n",
      "Model saved to ./models/net_v1_lr_1e-4_sgd_lr_sche_v2.pth\n",
      "\n",
      "Epoch 1/39\n",
      "----------\n",
      "train Loss: 1.2755 Accuracy: 0.5444\n",
      "test Loss: 1.1050 Accuracy: 0.5982\n",
      "Model saved to ./models/net_v1_lr_1e-4_sgd_lr_sche_v2.pth\n",
      "\n",
      "Epoch 2/39\n",
      "----------\n",
      "train Loss: 1.0986 Accuracy: 0.6116\n",
      "test Loss: 0.9734 Accuracy: 0.6608\n",
      "Model saved to ./models/net_v1_lr_1e-4_sgd_lr_sche_v2.pth\n",
      "\n",
      "Epoch 3/39\n",
      "----------\n",
      "train Loss: 0.9893 Accuracy: 0.6538\n",
      "test Loss: 0.8306 Accuracy: 0.7051\n",
      "Model saved to ./models/net_v1_lr_1e-4_sgd_lr_sche_v2.pth\n",
      "\n",
      "Epoch 4/39\n",
      "----------\n",
      "train Loss: 0.9040 Accuracy: 0.6848\n",
      "test Loss: 0.8047 Accuracy: 0.7258\n",
      "Model saved to ./models/net_v1_lr_1e-4_sgd_lr_sche_v2.pth\n",
      "\n",
      "Epoch 5/39\n",
      "----------\n",
      "train Loss: 0.8439 Accuracy: 0.7081\n",
      "test Loss: 0.7805 Accuracy: 0.7379\n",
      "Model saved to ./models/net_v1_lr_1e-4_sgd_lr_sche_v2.pth\n",
      "\n",
      "Epoch 6/39\n",
      "----------\n",
      "train Loss: 0.7849 Accuracy: 0.7275\n",
      "test Loss: 0.6642 Accuracy: 0.7748\n",
      "Model saved to ./models/net_v1_lr_1e-4_sgd_lr_sche_v2.pth\n",
      "\n",
      "Epoch 7/39\n",
      "----------\n",
      "train Loss: 0.7534 Accuracy: 0.7388\n",
      "test Loss: 0.6231 Accuracy: 0.7892\n",
      "Model saved to ./models/net_v1_lr_1e-4_sgd_lr_sche_v2.pth\n",
      "\n",
      "Epoch 8/39\n",
      "----------\n",
      "train Loss: 0.7116 Accuracy: 0.7566\n",
      "test Loss: 0.7030 Accuracy: 0.7635\n",
      "\n",
      "Epoch 9/39\n",
      "----------\n",
      "train Loss: 0.6759 Accuracy: 0.7682\n",
      "test Loss: 0.5564 Accuracy: 0.8095\n",
      "Model saved to ./models/net_v1_lr_1e-4_sgd_lr_sche_v2.pth\n",
      "\n",
      "Epoch 10/39\n",
      "----------\n",
      "train Loss: 0.6479 Accuracy: 0.7791\n",
      "test Loss: 0.5864 Accuracy: 0.7992\n",
      "\n",
      "Epoch 11/39\n",
      "----------\n",
      "train Loss: 0.6210 Accuracy: 0.7864\n",
      "test Loss: 0.5797 Accuracy: 0.8085\n",
      "\n",
      "Epoch 12/39\n",
      "----------\n",
      "train Loss: 0.6012 Accuracy: 0.7945\n",
      "test Loss: 0.5576 Accuracy: 0.8183\n",
      "Model saved to ./models/net_v1_lr_1e-4_sgd_lr_sche_v2.pth\n",
      "\n",
      "Epoch 13/39\n",
      "----------\n",
      "train Loss: 0.5776 Accuracy: 0.8027\n",
      "test Loss: 0.5321 Accuracy: 0.8218\n",
      "Model saved to ./models/net_v1_lr_1e-4_sgd_lr_sche_v2.pth\n",
      "\n",
      "Epoch 14/39\n",
      "----------\n",
      "train Loss: 0.5569 Accuracy: 0.8095\n",
      "test Loss: 0.4933 Accuracy: 0.8346\n",
      "Model saved to ./models/net_v1_lr_1e-4_sgd_lr_sche_v2.pth\n",
      "\n",
      "Epoch 15/39\n",
      "----------\n",
      "train Loss: 0.5384 Accuracy: 0.8156\n",
      "test Loss: 0.5165 Accuracy: 0.8197\n",
      "\n",
      "Epoch 16/39\n",
      "----------\n",
      "train Loss: 0.5226 Accuracy: 0.8233\n",
      "test Loss: 0.4752 Accuracy: 0.8447\n",
      "Model saved to ./models/net_v1_lr_1e-4_sgd_lr_sche_v2.pth\n",
      "\n",
      "Epoch 17/39\n",
      "----------\n",
      "train Loss: 0.5067 Accuracy: 0.8278\n",
      "test Loss: 0.4527 Accuracy: 0.8466\n",
      "Model saved to ./models/net_v1_lr_1e-4_sgd_lr_sche_v2.pth\n",
      "\n",
      "Epoch 18/39\n",
      "----------\n",
      "train Loss: 0.4909 Accuracy: 0.8321\n",
      "test Loss: 0.4336 Accuracy: 0.8545\n",
      "Model saved to ./models/net_v1_lr_1e-4_sgd_lr_sche_v2.pth\n",
      "\n",
      "Epoch 19/39\n",
      "----------\n",
      "train Loss: 0.4780 Accuracy: 0.8367\n",
      "test Loss: 0.4371 Accuracy: 0.8544\n",
      "\n",
      "Epoch 20/39\n",
      "----------\n",
      "train Loss: 0.3890 Accuracy: 0.8654\n",
      "test Loss: 0.3802 Accuracy: 0.8745\n",
      "Model saved to ./models/net_v1_lr_1e-4_sgd_lr_sche_v2.pth\n",
      "\n",
      "Epoch 21/39\n",
      "----------\n",
      "train Loss: 0.3588 Accuracy: 0.8783\n",
      "test Loss: 0.3793 Accuracy: 0.8748\n",
      "Model saved to ./models/net_v1_lr_1e-4_sgd_lr_sche_v2.pth\n",
      "\n",
      "Epoch 22/39\n",
      "----------\n",
      "train Loss: 0.3509 Accuracy: 0.8802\n",
      "test Loss: 0.3727 Accuracy: 0.8749\n",
      "Model saved to ./models/net_v1_lr_1e-4_sgd_lr_sche_v2.pth\n",
      "\n",
      "Epoch 23/39\n",
      "----------\n",
      "train Loss: 0.3434 Accuracy: 0.8822\n",
      "test Loss: 0.3684 Accuracy: 0.8782\n",
      "Model saved to ./models/net_v1_lr_1e-4_sgd_lr_sche_v2.pth\n",
      "\n",
      "Epoch 24/39\n",
      "----------\n",
      "train Loss: 0.3348 Accuracy: 0.8846\n",
      "test Loss: 0.3684 Accuracy: 0.8775\n",
      "\n",
      "Epoch 25/39\n",
      "----------\n",
      "train Loss: 0.3309 Accuracy: 0.8873\n",
      "test Loss: 0.3696 Accuracy: 0.8779\n",
      "\n",
      "Epoch 26/39\n",
      "----------\n",
      "train Loss: 0.3282 Accuracy: 0.8868\n",
      "test Loss: 0.3644 Accuracy: 0.8773\n",
      "\n",
      "Epoch 27/39\n",
      "----------\n",
      "train Loss: 0.3223 Accuracy: 0.8883\n",
      "test Loss: 0.3608 Accuracy: 0.8808\n",
      "Model saved to ./models/net_v1_lr_1e-4_sgd_lr_sche_v2.pth\n",
      "\n",
      "Epoch 28/39\n",
      "----------\n",
      "train Loss: 0.3201 Accuracy: 0.8905\n",
      "test Loss: 0.3613 Accuracy: 0.8792\n",
      "\n",
      "Epoch 29/39\n",
      "----------\n",
      "train Loss: 0.3144 Accuracy: 0.8906\n",
      "test Loss: 0.3635 Accuracy: 0.8787\n",
      "\n",
      "Epoch 30/39\n",
      "----------\n",
      "train Loss: 0.3061 Accuracy: 0.8946\n",
      "test Loss: 0.3580 Accuracy: 0.8801\n",
      "\n",
      "Epoch 31/39\n",
      "----------\n",
      "train Loss: 0.3064 Accuracy: 0.8952\n",
      "test Loss: 0.3568 Accuracy: 0.8802\n",
      "\n",
      "Epoch 32/39\n",
      "----------\n",
      "train Loss: 0.3061 Accuracy: 0.8940\n",
      "test Loss: 0.3539 Accuracy: 0.8813\n",
      "Model saved to ./models/net_v1_lr_1e-4_sgd_lr_sche_v2.pth\n",
      "\n",
      "Epoch 33/39\n",
      "----------\n",
      "train Loss: 0.3029 Accuracy: 0.8965\n",
      "test Loss: 0.3558 Accuracy: 0.8799\n",
      "\n",
      "Epoch 34/39\n",
      "----------\n",
      "train Loss: 0.3032 Accuracy: 0.8945\n",
      "test Loss: 0.3552 Accuracy: 0.8820\n",
      "Model saved to ./models/net_v1_lr_1e-4_sgd_lr_sche_v2.pth\n",
      "\n",
      "Epoch 35/39\n",
      "----------\n",
      "train Loss: 0.3011 Accuracy: 0.8972\n",
      "test Loss: 0.3524 Accuracy: 0.8820\n",
      "\n",
      "Epoch 36/39\n",
      "----------\n",
      "train Loss: 0.2959 Accuracy: 0.8985\n",
      "test Loss: 0.3495 Accuracy: 0.8827\n",
      "Model saved to ./models/net_v1_lr_1e-4_sgd_lr_sche_v2.pth\n",
      "\n",
      "Epoch 37/39\n",
      "----------\n",
      "train Loss: 0.2985 Accuracy: 0.8968\n",
      "test Loss: 0.3500 Accuracy: 0.8835\n",
      "Model saved to ./models/net_v1_lr_1e-4_sgd_lr_sche_v2.pth\n",
      "\n",
      "Epoch 38/39\n",
      "----------\n",
      "train Loss: 0.2976 Accuracy: 0.8978\n",
      "test Loss: 0.3516 Accuracy: 0.8826\n",
      "\n",
      "Epoch 39/39\n",
      "----------\n",
      "train Loss: 0.2970 Accuracy: 0.8963\n",
      "test Loss: 0.3535 Accuracy: 0.8821\n",
      "\n",
      "Training complete in 23m 18s\n",
      "Best Test Accuracy: 0.883500\n"
     ]
    }
   ],
   "source": [
    "training()"
   ]
  },
  {
   "cell_type": "markdown",
   "metadata": {
    "collapsed": true
   },
   "source": [
    "## Testing"
   ]
  },
  {
   "cell_type": "code",
   "execution_count": 40,
   "metadata": {},
   "outputs": [],
   "source": [
    "model = Model()\n",
    "model.load_state_dict(torch.load(os.path.join(model_save_dir, \"net_v1_lr_1e-4_sgd_lr_sche_v2.pth\"))) \n",
    "model.train(False)\n",
    "\n",
    "trans = transforms.Compose([\n",
    "    transforms.ToTensor(),\n",
    "    transforms.Normalize(mean, [1., 1., 1.])\n",
    "])\n",
    "dataset = cifar10Dataset(dataset_dir, 'test', trans)\n",
    "dataloader = DataLoader(dataset, batch_size=1, shuffle=True, num_workers=4)\n",
    "dataiter = iter(dataloader)"
   ]
  },
  {
   "cell_type": "code",
   "execution_count": 44,
   "metadata": {},
   "outputs": [
    {
     "data": {
      "image/png": "[encoded data removed]",
      "text/plain": [
       "<matplotlib.figure.Figure at 0x7f868e0fcba8>"
      ]
     },
     "metadata": {},
     "output_type": "display_data"
    }
   ],
   "source": [
    "images, labels = dataiter.next()\n",
    "plt.imshow(images[0].numpy().transpose((1, 2, 0))+mean)\n",
    "plt.title(label_names[labels[0]])\n",
    "plt.show()"
   ]
  },
  {
   "cell_type": "code",
   "execution_count": 47,
   "metadata": {},
   "outputs": [
    {
     "name": "stdout",
     "output_type": "stream",
     "text": [
      "['airplane', 'automobile', 'bird', 'cat', 'deer', 'dog', 'frog', 'horse', 'ship', 'truck']\n",
      "tensor([ 0.1935,  0.0009,  0.0355,  0.0015,  0.0019,  0.0012,  0.0003,\n",
      "         0.0005,  0.7596,  0.0052])\n"
     ]
    }
   ],
   "source": [
    "import torch.nn.functional as F\n",
    "\n",
    "out = F.softmax(model(images), dim=1)\n",
    "print(label_names)\n",
    "print(out[0])"
   ]
  },
  {
   "cell_type": "code",
   "execution_count": null,
   "metadata": {
    "collapsed": true
   },
   "outputs": [],
   "source": []
  }
 ],
 "metadata": {
  "kernelspec": {
   "display_name": "Python 3",
   "language": "python",
   "name": "python3"
  },
  "language_info": {
   "codemirror_mode": {
    "name": "ipython",
    "version": 3
   },
   "file_extension": ".py",
   "mimetype": "text/x-python",
   "name": "python",
   "nbconvert_exporter": "python",
   "pygments_lexer": "ipython3",
   "version": "3.6.3"
  }
 },
 "nbformat": 4,
 "nbformat_minor": 2
}
