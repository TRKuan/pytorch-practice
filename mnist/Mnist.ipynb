{
 "cells": [
  {
   "cell_type": "markdown",
   "metadata": {},
   "source": [
    "# Mnist"
   ]
  },
  {
   "cell_type": "code",
   "execution_count": 1,
   "metadata": {},
   "outputs": [],
   "source": [
    "%matplotlib inline\n",
    "\n",
    "import torch\n",
    "import torch.nn as nn\n",
    "import torch.optim as optim\n",
    "from torch.utils.data import DataLoader\n",
    "import torchvision\n",
    "from torchvision import transforms\n",
    "from tensorboardX import SummaryWriter\n",
    "from sklearn.metrics import accuracy_score\n",
    "import numpy as np\n",
    "from PIL import ImageStat\n",
    "import matplotlib.pyplot as plt\n",
    "import math\n",
    "import time\n",
    "import os"
   ]
  },
  {
   "cell_type": "code",
   "execution_count": 2,
   "metadata": {
    "collapsed": true
   },
   "outputs": [],
   "source": [
    "num_epochs = 5\n",
    "learning_rate = 1e-4\n",
    "batch_size = 100\n",
    "model_save_dir = './models'\n",
    "model_name = 'v1_lr_1e-4'\n",
    "log_dir = './runs'"
   ]
  },
  {
   "cell_type": "markdown",
   "metadata": {},
   "source": [
    "## Dataset"
   ]
  },
  {
   "cell_type": "code",
   "execution_count": 3,
   "metadata": {},
   "outputs": [
    {
     "name": "stdout",
     "output_type": "stream",
     "text": [
      "[ 0.13066048]\n"
     ]
    }
   ],
   "source": [
    "dataset_dir = './data'\n",
    "dataset = torchvision.datasets.MNIST(dataset_dir, train=True, download=True)\n",
    "\n",
    "mean = np.zeros(1)\n",
    "for i in range(len(dataset)):\n",
    "    image = dataset[i][0]\n",
    "    stat = ImageStat.Stat(image)\n",
    "    mean += np.array(stat.mean)\n",
    "    print('\\r{:.2f}%'.format(100*i/len(dataset)), end='\\r')\n",
    "mean /= len(dataset)*255\n",
    "print(mean)"
   ]
  },
  {
   "cell_type": "code",
   "execution_count": 4,
   "metadata": {
    "collapsed": true
   },
   "outputs": [],
   "source": [
    "def show_tensor_image(inp, title=None):\n",
    "    \"\"\"Imshow for Tensor.\"\"\"\n",
    "    inp = inp.numpy().transpose((1, 2, 0))\n",
    "    mean = np.array([0.13066048 for _ in range(3)])\n",
    "    inp = inp + mean\n",
    "    inp = np.clip(inp, 0, 1)\n",
    "    plt.imshow(inp)\n",
    "    if title is not None:\n",
    "        plt.title(title)"
   ]
  },
  {
   "cell_type": "code",
   "execution_count": 5,
   "metadata": {},
   "outputs": [
    {
     "data": {
      "image/png": "[encoded data removed]",
      "text/plain": [
       "<matplotlib.figure.Figure at 0x7efea873c780>"
      ]
     },
     "metadata": {},
     "output_type": "display_data"
    }
   ],
   "source": [
    "trans = transforms.Compose([\n",
    "    transforms.ToTensor(),\n",
    "    transforms.Normalize(mean, [1., 1., 1.])\n",
    "])\n",
    "dataset = torchvision.datasets.MNIST('./data', train=True, download=True, transform=trans)\n",
    "dataloader = DataLoader(dataset, batch_size=5, shuffle=True, num_workers=1)\n",
    "images, labels = next(iter(dataloader))\n",
    "show_tensor_image(torchvision.utils.make_grid(images), title=[x.item() for x in labels])"
   ]
  },
  {
   "cell_type": "code",
   "execution_count": 6,
   "metadata": {},
   "outputs": [
    {
     "name": "stdout",
     "output_type": "stream",
     "text": [
      "{'train': 60000, 'test': 10000}\n"
     ]
    }
   ],
   "source": [
    "trans = {}\n",
    "trans['train'] = transforms.Compose([\n",
    "    transforms.ToTensor(),\n",
    "    transforms.Normalize(mean, [1., 1., 1.])\n",
    "])\n",
    "trans['test'] = transforms.Compose([\n",
    "    transforms.ToTensor(),\n",
    "    transforms.Normalize(mean, [1., 1., 1.])\n",
    "])\n",
    "datasets = {\n",
    "    'train': torchvision.datasets.MNIST(dataset_dir, train=True, download=True, transform=trans['train']),\n",
    "    'test': torchvision.datasets.MNIST(dataset_dir, train=False, download=True, transform=trans['test'])\n",
    "}\n",
    "dataloaders = {x: DataLoader(datasets[x], batch_size=batch_size, shuffle=True, num_workers=4)\n",
    "                for x in ['train', 'test']}\n",
    "dataset_sizes = {x: len(datasets[x]) for x in ['train', 'test']}\n",
    "print(dataset_sizes)"
   ]
  },
  {
   "cell_type": "code",
   "execution_count": 7,
   "metadata": {},
   "outputs": [
    {
     "name": "stdout",
     "output_type": "stream",
     "text": [
      "torch.Size([100, 1, 28, 28])\n",
      "torch.Size([100])\n",
      "tensor([[[-0.1307, -0.1307, -0.1307, -0.1307, -0.1307, -0.1307, -0.1307,\n",
      "          -0.1307, -0.1307, -0.1307, -0.1307, -0.1307, -0.1307, -0.1307,\n",
      "          -0.1307, -0.1307, -0.1307, -0.1307, -0.1307, -0.1307, -0.1307,\n",
      "          -0.1307, -0.1307, -0.1307, -0.1307, -0.1307, -0.1307, -0.1307],\n",
      "         [-0.1307, -0.1307, -0.1307, -0.1307, -0.1307, -0.1307, -0.1307,\n",
      "          -0.1307, -0.1307, -0.1307, -0.1307, -0.1307, -0.1307, -0.1307,\n",
      "          -0.1307, -0.1307, -0.1307, -0.1307, -0.1307, -0.1307, -0.1307,\n",
      "          -0.1307, -0.1307, -0.1307, -0.1307, -0.1307, -0.1307, -0.1307],\n",
      "         [-0.1307, -0.1307, -0.1307, -0.1307, -0.1307, -0.1307, -0.1307,\n",
      "          -0.1307, -0.1307, -0.1307, -0.1307, -0.1307, -0.1307, -0.1307,\n",
      "          -0.1307, -0.1307, -0.1307, -0.1307, -0.1307, -0.1307, -0.1307,\n",
      "          -0.1307, -0.1307, -0.1307, -0.1307, -0.1307, -0.1307, -0.1307],\n",
      "         [-0.1307, -0.1307, -0.1307, -0.1307, -0.1307, -0.1307, -0.1307,\n",
      "          -0.1307, -0.1307, -0.1307, -0.1307, -0.1307, -0.1307, -0.1307,\n",
      "          -0.1307, -0.1307, -0.1307, -0.1307, -0.1307, -0.1307, -0.1307,\n",
      "          -0.1307, -0.1307, -0.1307, -0.1307, -0.1307, -0.1307, -0.1307],\n",
      "         [-0.1307, -0.1307, -0.1307, -0.1307, -0.1307, -0.1307, -0.1307,\n",
      "          -0.1307, -0.1307, -0.1307, -0.1307, -0.1307, -0.1307, -0.1307,\n",
      "          -0.1307, -0.1307, -0.1307, -0.1307,  0.3438,  0.8615,  0.3988,\n",
      "          -0.1307, -0.1307, -0.1307, -0.1307, -0.1307, -0.1307, -0.1307],\n",
      "         [-0.1307, -0.1307, -0.1307, -0.1307, -0.1307, -0.1307, -0.1307,\n",
      "          -0.1307, -0.1307, -0.1307, -0.1307, -0.1307, -0.1307, -0.1307,\n",
      "          -0.1307, -0.1307, -0.1307,  0.0576,  0.7674,  0.8576,  0.8340,\n",
      "           0.2537, -0.1307, -0.1307, -0.1307, -0.1307, -0.1307, -0.1307],\n",
      "         [-0.1307, -0.1307, -0.1307, -0.1307, -0.1307, -0.1307, -0.1307,\n",
      "          -0.1307, -0.1307, -0.1307, -0.1307, -0.1307, -0.1307, -0.1307,\n",
      "          -0.1307, -0.1307,  0.0223,  0.7360,  0.8576,  0.8576,  0.8497,\n",
      "           0.3046, -0.1307, -0.1307, -0.1307, -0.1307, -0.1307, -0.1307],\n",
      "         [-0.1307, -0.1307, -0.1307, -0.1307, -0.1307, -0.1307, -0.1307,\n",
      "          -0.1307, -0.1307, -0.1307, -0.1307, -0.1307, -0.1307, -0.1307,\n",
      "          -0.1307, -0.1307,  0.1046,  0.8576,  0.8576,  0.8576,  0.4615,\n",
      "          -0.1307, -0.1307, -0.1307, -0.1307, -0.1307, -0.1307, -0.1307],\n",
      "         [-0.1307, -0.1307, -0.1307, -0.1307, -0.1307, -0.1307, -0.1307,\n",
      "          -0.1307, -0.1307, -0.1307, -0.1307, -0.1307, -0.1307, -0.1307,\n",
      "          -0.1307,  0.1674,  0.6693,  0.8576,  0.8576,  0.7674,  0.0733,\n",
      "          -0.1307, -0.1307, -0.1307, -0.1307, -0.1307, -0.1307, -0.1307],\n",
      "         [-0.1307, -0.1307, -0.1307, -0.1307, -0.1307, -0.1307, -0.1307,\n",
      "          -0.1307, -0.1307, -0.1307, -0.1307, -0.1307, -0.1307, -0.1307,\n",
      "          -0.1307,  0.8615,  0.8576,  0.8576,  0.8576,  0.4929, -0.1307,\n",
      "          -0.1307, -0.1307, -0.1307, -0.1307, -0.1307, -0.1307, -0.1307],\n",
      "         [-0.1307, -0.1307, -0.1307, -0.1307, -0.1307, -0.1307, -0.1307,\n",
      "          -0.1307, -0.1307, -0.1307, -0.1307, -0.1307, -0.1307, -0.1307,\n",
      "          -0.1307,  0.8615,  0.8576,  0.8576,  0.8576, -0.0169, -0.1307,\n",
      "          -0.1307, -0.1307, -0.1307, -0.1307, -0.1307, -0.1307, -0.1307],\n",
      "         [-0.1307, -0.1307, -0.1307, -0.1307, -0.1307, -0.1307, -0.1307,\n",
      "          -0.1307, -0.1307, -0.1307, -0.1307, -0.1307, -0.1307, -0.1307,\n",
      "           0.4223,  0.8615,  0.8576,  0.8576,  0.4144, -0.1228, -0.1307,\n",
      "          -0.1307, -0.1307, -0.1307, -0.1307, -0.1307, -0.1307, -0.1307],\n",
      "         [-0.1307, -0.1307, -0.1307, -0.1307, -0.1307, -0.1307, -0.1307,\n",
      "          -0.1307, -0.1307, -0.1307, -0.1307, -0.1307, -0.1307,  0.1086,\n",
      "           0.7635,  0.8615,  0.8576,  0.8105, -0.0091, -0.1307, -0.1307,\n",
      "          -0.1307, -0.1307, -0.1307, -0.1307, -0.1307, -0.1307, -0.1307],\n",
      "         [-0.1307, -0.1307, -0.1307, -0.1307, -0.1307, -0.1307, -0.1307,\n",
      "          -0.1307, -0.1307, -0.1307, -0.1307, -0.1307, -0.1307,  0.6262,\n",
      "           0.8576,  0.8615,  0.8576,  0.4497, -0.1307, -0.1307, -0.1307,\n",
      "          -0.1307, -0.1307, -0.1307, -0.1307, -0.1307, -0.1307, -0.1307],\n",
      "         [-0.1307, -0.1307, -0.1307, -0.1307, -0.1307, -0.1307, -0.1307,\n",
      "          -0.1307, -0.1307, -0.1307, -0.1307, -0.1307,  0.0184,  0.7282,\n",
      "           0.8615,  0.8693,  0.7635,  0.0772, -0.1307, -0.1307, -0.1307,\n",
      "          -0.1307, -0.1307, -0.1307, -0.1307, -0.1307, -0.1307, -0.1307],\n",
      "         [-0.1307, -0.1307, -0.1307, -0.1307, -0.1307, -0.1307, -0.1307,\n",
      "          -0.1307, -0.1307, -0.1307, -0.1307, -0.0052,  0.7164,  0.8576,\n",
      "           0.8576,  0.8615,  0.4850, -0.1307, -0.1307, -0.1307, -0.1307,\n",
      "          -0.1307, -0.1307, -0.1307, -0.1307, -0.1307, -0.1307, -0.1307],\n",
      "         [-0.1307, -0.1307, -0.1307, -0.1307, -0.1307, -0.1307, -0.1307,\n",
      "          -0.1307, -0.1307, -0.1307, -0.1307,  0.3948,  0.8576,  0.8576,\n",
      "           0.8576,  0.8380,  0.0301, -0.1307, -0.1307, -0.1307, -0.1307,\n",
      "          -0.1307, -0.1307, -0.1307, -0.1307, -0.1307, -0.1307, -0.1307],\n",
      "         [-0.1307, -0.1307, -0.1307, -0.1307, -0.1307, -0.1307, -0.1307,\n",
      "          -0.1307, -0.1307, -0.1307, -0.0718,  0.6105,  0.8576,  0.8576,\n",
      "           0.8576,  0.1791, -0.1307, -0.1307, -0.1307, -0.1307, -0.1307,\n",
      "          -0.1307, -0.1307, -0.1307, -0.1307, -0.1307, -0.1307, -0.1307],\n",
      "         [-0.1307, -0.1307, -0.1307, -0.1307, -0.1307, -0.1307, -0.1307,\n",
      "          -0.1307, -0.1307, -0.0405,  0.5870,  0.8576,  0.8576,  0.8576,\n",
      "           0.6811, -0.1307, -0.1307, -0.1307, -0.1307, -0.1307, -0.1307,\n",
      "          -0.1307, -0.1307, -0.1307, -0.1307, -0.1307, -0.1307, -0.1307],\n",
      "         [-0.1307, -0.1307, -0.1307, -0.1307, -0.1307, -0.1307, -0.1307,\n",
      "          -0.1307, -0.1307,  0.1635,  0.8576,  0.8576,  0.8576,  0.8340,\n",
      "           0.2262, -0.1307, -0.1307, -0.1307, -0.1307, -0.1307, -0.1307,\n",
      "          -0.1307, -0.1307, -0.1307, -0.1307, -0.1307, -0.1307, -0.1307],\n",
      "         [-0.1307, -0.1307, -0.1307, -0.1307, -0.1307, -0.1307, -0.1307,\n",
      "          -0.1307, -0.1307,  0.4693,  0.8576,  0.8576,  0.8576,  0.3713,\n",
      "          -0.1307, -0.1307, -0.1307, -0.1307, -0.1307, -0.1307, -0.1307,\n",
      "          -0.1307, -0.1307, -0.1307, -0.1307, -0.1307, -0.1307, -0.1307],\n",
      "         [-0.1307, -0.1307, -0.1307, -0.1307, -0.1307, -0.1307, -0.1307,\n",
      "          -0.1071,  0.4968,  0.8497,  0.8576,  0.8576,  0.8576,  0.1007,\n",
      "          -0.1307, -0.1307, -0.1307, -0.1307, -0.1307, -0.1307, -0.1307,\n",
      "          -0.1307, -0.1307, -0.1307, -0.1307, -0.1307, -0.1307, -0.1307],\n",
      "         [-0.1307, -0.1307, -0.1307, -0.1307, -0.1307, -0.1307, -0.1307,\n",
      "          -0.0718,  0.8576,  0.8576,  0.8576,  0.8576,  0.4811, -0.0758,\n",
      "          -0.1307, -0.1307, -0.1307, -0.1307, -0.1307, -0.1307, -0.1307,\n",
      "          -0.1307, -0.1307, -0.1307, -0.1307, -0.1307, -0.1307, -0.1307],\n",
      "         [-0.1307, -0.1307, -0.1307, -0.1307, -0.1307, -0.1307, -0.1307,\n",
      "          -0.0718,  0.8576,  0.8576,  0.8576,  0.8576, -0.0758, -0.1307,\n",
      "          -0.1307, -0.1307, -0.1307, -0.1307, -0.1307, -0.1307, -0.1307,\n",
      "          -0.1307, -0.1307, -0.1307, -0.1307, -0.1307, -0.1307, -0.1307],\n",
      "         [-0.1307, -0.1307, -0.1307, -0.1307, -0.1307, -0.1307, -0.1307,\n",
      "          -0.1307, -0.1307, -0.1307, -0.1307, -0.1307, -0.1307, -0.1307,\n",
      "          -0.1307, -0.1307, -0.1307, -0.1307, -0.1307, -0.1307, -0.1307,\n",
      "          -0.1307, -0.1307, -0.1307, -0.1307, -0.1307, -0.1307, -0.1307],\n",
      "         [-0.1307, -0.1307, -0.1307, -0.1307, -0.1307, -0.1307, -0.1307,\n",
      "          -0.1307, -0.1307, -0.1307, -0.1307, -0.1307, -0.1307, -0.1307,\n",
      "          -0.1307, -0.1307, -0.1307, -0.1307, -0.1307, -0.1307, -0.1307,\n",
      "          -0.1307, -0.1307, -0.1307, -0.1307, -0.1307, -0.1307, -0.1307],\n",
      "         [-0.1307, -0.1307, -0.1307, -0.1307, -0.1307, -0.1307, -0.1307,\n",
      "          -0.1307, -0.1307, -0.1307, -0.1307, -0.1307, -0.1307, -0.1307,\n",
      "          -0.1307, -0.1307, -0.1307, -0.1307, -0.1307, -0.1307, -0.1307,\n",
      "          -0.1307, -0.1307, -0.1307, -0.1307, -0.1307, -0.1307, -0.1307],\n",
      "         [-0.1307, -0.1307, -0.1307, -0.1307, -0.1307, -0.1307, -0.1307,\n",
      "          -0.1307, -0.1307, -0.1307, -0.1307, -0.1307, -0.1307, -0.1307,\n",
      "          -0.1307, -0.1307, -0.1307, -0.1307, -0.1307, -0.1307, -0.1307,\n",
      "          -0.1307, -0.1307, -0.1307, -0.1307, -0.1307, -0.1307, -0.1307]]])\n",
      "tensor(1)\n"
     ]
    }
   ],
   "source": [
    "images, labels = next(iter(dataloaders['train']))\n",
    "print(images.size())\n",
    "print(labels.size())\n",
    "print(images[0])\n",
    "print(labels[0])"
   ]
  },
  {
   "cell_type": "markdown",
   "metadata": {},
   "source": [
    "## Model"
   ]
  },
  {
   "cell_type": "code",
   "execution_count": 8,
   "metadata": {
    "collapsed": true
   },
   "outputs": [],
   "source": [
    "class Model(nn.Module):\n",
    "    def __init__(self):\n",
    "        super(Model, self).__init__()\n",
    "        self.features = nn.Sequential(\n",
    "            #28x28\n",
    "            nn.Conv2d(1, 32, 3, stride=1, padding=1),\n",
    "            nn.BatchNorm2d(32),\n",
    "            nn.ReLU(inplace=True),\n",
    "            nn.MaxPool2d(2),\n",
    "            #14x14\n",
    "            nn.Conv2d(32, 64, 3, stride=1, padding=1),\n",
    "            nn.BatchNorm2d(64),\n",
    "            nn.ReLU(inplace=True),\n",
    "            nn.MaxPool2d(2),\n",
    "            #7x7\n",
    "        )\n",
    "\n",
    "        self.classifier = nn.Sequential(\n",
    "            nn.Linear(64 * 7 * 7, 512),\n",
    "            nn.ReLU(inplace=True),\n",
    "            nn.Dropout(),\n",
    "            nn.Linear(512, 512),\n",
    "            nn.ReLU(inplace=True),\n",
    "            nn.Dropout(),\n",
    "            nn.Linear(512, 10)\n",
    "        )\n",
    "        \n",
    "        self._initialize_weights()\n",
    "        \n",
    "\n",
    "    def forward(self, x):\n",
    "        x = self.features(x)\n",
    "        x = x.view(x.size(0), -1)\n",
    "        x = self.classifier(x)\n",
    "        return x\n",
    "\n",
    "    def _initialize_weights(self):\n",
    "        for m in self.modules():\n",
    "            if isinstance(m, nn.Conv2d):\n",
    "                n = m.kernel_size[0] * m.kernel_size[1] * m.out_channels\n",
    "                m.weight.data.normal_(0, math.sqrt(2. / n))\n",
    "                if m.bias is not None:\n",
    "                    m.bias.data.zero_()\n",
    "            elif isinstance(m, nn.BatchNorm2d):\n",
    "                m.weight.data.fill_(1)\n",
    "                m.bias.data.zero_()\n",
    "            elif isinstance(m, nn.Linear):\n",
    "                m.weight.data.normal_(0, 0.01)\n",
    "                m.bias.data.zero_()"
   ]
  },
  {
   "cell_type": "markdown",
   "metadata": {},
   "source": [
    "## Training"
   ]
  },
  {
   "cell_type": "code",
   "execution_count": 9,
   "metadata": {},
   "outputs": [],
   "source": [
    "device = torch.device(\"cuda\" if torch.cuda.is_available() else \"cpu\")\n",
    "writer = {x: SummaryWriter(log_dir=os.path.join(log_dir, model_name, x),\n",
    "                comment=model_name)\n",
    "          for x in ['train', 'test']}"
   ]
  },
  {
   "cell_type": "code",
   "execution_count": 10,
   "metadata": {},
   "outputs": [],
   "source": [
    "model = Model().to(device)\n",
    "criterion = nn.CrossEntropyLoss(size_average=False)\n",
    "optimizer = optim.SGD(model.parameters(), lr=learning_rate, momentum=0.9, weight_decay=0)\n",
    "#scheduler = optim.lr_scheduler.MultiStepLR(optimizer, milestones=[20,30], gamma=0.1)"
   ]
  },
  {
   "cell_type": "code",
   "execution_count": 11,
   "metadata": {
    "collapsed": true
   },
   "outputs": [],
   "source": [
    "def training():\n",
    "    since = time.time()\n",
    "    best_model_wts = model.state_dict()\n",
    "    best_accuracy = 0.0\n",
    "    iter_num = 0\n",
    "\n",
    "    for epoch in range(num_epochs):\n",
    "        print('Epoch {}/{}'.format(epoch, num_epochs - 1))\n",
    "        print('-' * 10)\n",
    "        #scheduler.step()\n",
    "        # Each epoch has a training and validation phase\n",
    "        for phase in ['train', 'test']:\n",
    "            if phase == 'train':\n",
    "                model.train(True)  # Set model to training mode\n",
    "            else:\n",
    "                model.train(False)  # Set model to evaluate mode\n",
    "\n",
    "            running_loss = 0.0\n",
    "            running_corrects = 0\n",
    "            # Iterate over data.\n",
    "            for idx, data in enumerate(dataloaders[phase]):\n",
    "                # get the inputs\n",
    "                inputs, labels = data\n",
    "\n",
    "                inputs = inputs.to(device)\n",
    "                labels = labels.to(device)\n",
    "                \n",
    "                if phase == 'train':\n",
    "                    torch.set_grad_enabled(True)\n",
    "                else:\n",
    "                    torch.set_grad_enabled(False)\n",
    "\n",
    "                # zero the parameter gradients\n",
    "                optimizer.zero_grad()\n",
    "\n",
    "                # forward\n",
    "                outputs = model(inputs)\n",
    "                loss = criterion(outputs, labels)\n",
    "\n",
    "                # backward + optimize only if in training phase\n",
    "                if phase == 'train':\n",
    "                    loss.backward()\n",
    "                    optimizer.step()\n",
    "                    iter_num += 1\n",
    "\n",
    "                # statistics\n",
    "                running_loss += loss.item()\n",
    "                _, preds = torch.max(outputs.detach(), 1)\n",
    "                running_corrects += torch.sum(preds == labels.detach()).item()\n",
    "\n",
    "                if idx%10 == 0:\n",
    "                    if phase == 'train':\n",
    "                        preds = preds.to('cpu')\n",
    "                        labels = labels.detach().to('cpu')\n",
    "                        writer[phase].add_scalar('loss', loss.item()/len(preds), iter_num)\n",
    "                        writer[phase].add_scalar('accuracy', accuracy_score(preds.numpy(), labels.numpy()), iter_num)\n",
    "                    print('\\r{} {:.2f}%'.format(phase, 100*idx/len(dataloaders[phase])), end='\\r')\n",
    "\n",
    "            epoch_loss = running_loss / dataset_sizes[phase]\n",
    "            epoch_accuracy = running_corrects / dataset_sizes[phase]\n",
    "\n",
    "            if phase == 'test':\n",
    "                writer[phase].add_scalar('loss', epoch_loss, iter_num)\n",
    "                writer[phase].add_scalar('accuracy', epoch_accuracy, iter_num)\n",
    "            print('{} Loss: {:.4f} Accuracy: {:.4f}'.format(\n",
    "                phase, epoch_loss, epoch_accuracy))\n",
    "\n",
    "            # save model\n",
    "            if phase == 'test' and epoch_accuracy > best_accuracy:\n",
    "                best_accuracy = epoch_accuracy\n",
    "                best_model_wts = model.state_dict()\n",
    "                model_dir = os.path.join(model_save_dir, model_name+'.pth')\n",
    "                if not os.path.exists(model_save_dir):\n",
    "                    os.makedirs(model_save_dir)\n",
    "                torch.save(model.state_dict(), model_dir)\n",
    "                print('Model saved to %s'%(model_dir))\n",
    "\n",
    "        print()\n",
    "\n",
    "    time_elapsed = time.time() - since\n",
    "    print('Training complete in {:.0f}m {:.0f}s'.format(\n",
    "        time_elapsed // 60, time_elapsed % 60))\n",
    "    print('Best Test Accuracy: {:4f}'.format(best_accuracy))\n",
    "\n",
    "    # load best model weights\n",
    "    model.load_state_dict(best_model_wts)"
   ]
  },
  {
   "cell_type": "code",
   "execution_count": 12,
   "metadata": {},
   "outputs": [
    {
     "name": "stdout",
     "output_type": "stream",
     "text": [
      "Epoch 0/4\n",
      "----------\n",
      "train Loss: 0.3700 Accuracy: 0.8798\n",
      "test Loss: 0.0597 Accuracy: 0.9793\n",
      "Model saved to ./models/v1_lr_1e-4.pth\n",
      "\n",
      "Epoch 1/4\n",
      "----------\n",
      "train Loss: 0.0762 Accuracy: 0.9777\n",
      "test Loss: 0.0332 Accuracy: 0.9889\n",
      "Model saved to ./models/v1_lr_1e-4.pth\n",
      "\n",
      "Epoch 2/4\n",
      "----------\n",
      "train Loss: 0.0588 Accuracy: 0.9818\n",
      "test Loss: 0.0346 Accuracy: 0.9895\n",
      "Model saved to ./models/v1_lr_1e-4.pth\n",
      "\n",
      "Epoch 3/4\n",
      "----------\n",
      "train Loss: 0.0467 Accuracy: 0.9861\n",
      "test Loss: 0.0254 Accuracy: 0.9907\n",
      "Model saved to ./models/v1_lr_1e-4.pth\n",
      "\n",
      "Epoch 4/4\n",
      "----------\n",
      "train Loss: 0.0415 Accuracy: 0.9875\n",
      "test Loss: 0.0319 Accuracy: 0.9905\n",
      "\n",
      "Training complete in 0m 38s\n",
      "Best Test Accuracy: 0.990700\n"
     ]
    }
   ],
   "source": [
    "training()"
   ]
  },
  {
   "cell_type": "code",
   "execution_count": null,
   "metadata": {
    "collapsed": true
   },
   "outputs": [],
   "source": []
  }
 ],
 "metadata": {
  "kernelspec": {
   "display_name": "Python 3",
   "language": "python",
   "name": "python3"
  },
  "language_info": {
   "codemirror_mode": {
    "name": "ipython",
    "version": 3
   },
   "file_extension": ".py",
   "mimetype": "text/x-python",
   "name": "python",
   "nbconvert_exporter": "python",
   "pygments_lexer": "ipython3",
   "version": "3.6.3"
  }
 },
 "nbformat": 4,
 "nbformat_minor": 2
}
